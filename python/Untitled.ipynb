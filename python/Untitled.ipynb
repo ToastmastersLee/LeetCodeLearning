{
 "cells": [
  {
   "cell_type": "code",
   "execution_count": 1,
   "id": "d44a806a",
   "metadata": {},
   "outputs": [
    {
     "name": "stdout",
     "output_type": "stream",
     "text": [
      "> \u001b[0;32m/var/folders/qz/hp294fs97116x1b0n3gg_tzc0000gn/T/ipykernel_6656/1273636828.py\u001b[0m(12)\u001b[0;36m<module>\u001b[0;34m()\u001b[0m\n",
      "\u001b[0;32m     10 \u001b[0;31m    \u001b[0;31m#print(\"f\"+f.tostring())\u001b[0m\u001b[0;34m\u001b[0m\u001b[0;34m\u001b[0m\u001b[0m\n",
      "\u001b[0m\u001b[0;32m     11 \u001b[0;31m    \u001b[0mpdb\u001b[0m\u001b[0;34m.\u001b[0m\u001b[0mset_trace\u001b[0m\u001b[0;34m(\u001b[0m\u001b[0;34m)\u001b[0m\u001b[0;34m\u001b[0m\u001b[0;34m\u001b[0m\u001b[0m\n",
      "\u001b[0m\u001b[0;32m---> 12 \u001b[0;31m    \u001b[0;32mfor\u001b[0m \u001b[0mline\u001b[0m \u001b[0;32min\u001b[0m \u001b[0mf\u001b[0m\u001b[0;34m:\u001b[0m\u001b[0;34m\u001b[0m\u001b[0;34m\u001b[0m\u001b[0m\n",
      "\u001b[0m\u001b[0;32m     13 \u001b[0;31m        \u001b[0mprint\u001b[0m\u001b[0;34m(\u001b[0m\u001b[0;34m\"line:\"\u001b[0m\u001b[0;34m+\u001b[0m\u001b[0mline\u001b[0m\u001b[0;34m)\u001b[0m\u001b[0;34m\u001b[0m\u001b[0;34m\u001b[0m\u001b[0m\n",
      "\u001b[0m\u001b[0;32m     14 \u001b[0;31m        \u001b[0mkey\u001b[0m\u001b[0;34m,\u001b[0m \u001b[0mvalue\u001b[0m \u001b[0;34m=\u001b[0m \u001b[0mline\u001b[0m\u001b[0;34m.\u001b[0m\u001b[0mstrip\u001b[0m\u001b[0;34m(\u001b[0m\u001b[0;34m)\u001b[0m\u001b[0;34m.\u001b[0m\u001b[0msplit\u001b[0m\u001b[0;34m(\u001b[0m\u001b[0;34m'='\u001b[0m\u001b[0;34m)\u001b[0m\u001b[0;34m\u001b[0m\u001b[0;34m\u001b[0m\u001b[0m\n",
      "\u001b[0m\n",
      "ipdb> f\n",
      "<_io.TextIOWrapper name='en.ini' mode='r' encoding='UTF-8'>\n",
      "ipdb> c\n",
      "line:template2513='Fire emergence broadcasting'\n",
      "数据已成功写入Excel文件： output.xlsx\n"
     ]
    }
   ],
   "source": [
    "import pandas as pd\n",
    "import pdb\n",
    "from openpyxl import Workbook\n",
    "\n",
    "# 读取INI文件\n",
    "ini_data = {}\n",
    "\n",
    "\n",
    "with open('en.ini', 'r') as f:\n",
    "    #print(\"f\"+f.tostring())\n",
    "    pdb.set_trace()\n",
    "    for line in f:\n",
    "        print(\"line:\"+line)\n",
    "        key, value = line.strip().split('=')\n",
    "        ini_data[key] = value\n",
    "\n",
    "# 读取XML文件（示例）\n",
    "# 你可以使用适合的XML库来处理XML文件\n",
    "xml_data = {'element1': 'value1', 'element2': 'value2'}\n",
    "\n",
    "# 创建一个Pandas DataFrame\n",
    "df = pd.DataFrame([ini_data, xml_data])\n",
    "\n",
    "# 将DataFrame写入Excel文件\n",
    "excel_path = 'output.xlsx'\n",
    "df.to_excel(excel_path, index=False)\n",
    "\n",
    "print(\"数据已成功写入Excel文件：\", excel_path)\n"
   ]
  },
  {
   "cell_type": "code",
   "execution_count": null,
   "id": "4b0ceb1c",
   "metadata": {},
   "outputs": [],
   "source": []
  },
  {
   "cell_type": "code",
   "execution_count": null,
   "id": "e379a2dd",
   "metadata": {},
   "outputs": [],
   "source": []
  },
  {
   "cell_type": "code",
   "execution_count": null,
   "id": "479d26fa",
   "metadata": {},
   "outputs": [],
   "source": []
  }
 ],
 "metadata": {
  "kernelspec": {
   "display_name": "Python 3 (ipykernel)",
   "language": "python",
   "name": "python3"
  },
  "language_info": {
   "codemirror_mode": {
    "name": "ipython",
    "version": 3
   },
   "file_extension": ".py",
   "mimetype": "text/x-python",
   "name": "python",
   "nbconvert_exporter": "python",
   "pygments_lexer": "ipython3",
   "version": "3.10.9"
  }
 },
 "nbformat": 4,
 "nbformat_minor": 5
}
